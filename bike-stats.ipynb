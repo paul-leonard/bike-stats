{
 "metadata": {
  "language_info": {
   "codemirror_mode": {
    "name": "ipython",
    "version": 3
   },
   "file_extension": ".py",
   "mimetype": "text/x-python",
   "name": "python",
   "nbconvert_exporter": "python",
   "pygments_lexer": "ipython3",
   "version": "3.9.0-final"
  },
  "orig_nbformat": 2,
  "kernelspec": {
   "name": "python3",
   "display_name": "Python 3"
  }
 },
 "nbformat": 4,
 "nbformat_minor": 2,
 "cells": [
  {
   "source": [
    "# Data Analysis with Pandas:  Seattle Bike Share Program Usage\n",
    "### Paul Leonard on 11/29/2020\n"
   ],
   "cell_type": "markdown",
   "metadata": {}
  },
  {
   "source": [
    "## Bringing in pandas library and the data"
   ],
   "cell_type": "markdown",
   "metadata": {}
  },
  {
   "cell_type": "code",
   "execution_count": 3,
   "metadata": {},
   "outputs": [],
   "source": [
    "import pandas as pd\n",
    "\n",
    "df_station = pd.read_csv('./station.csv')\n",
    "df_trip = pd.read_csv('./trip.csv')\n",
    "df_weather = pd.read_csv('./weather.csv')"
   ]
  },
  {
   "source": [
    "## What is the average trip duration (in minutes) for a borrowed bicycle?"
   ],
   "cell_type": "markdown",
   "metadata": {}
  },
  {
   "cell_type": "code",
   "execution_count": 7,
   "metadata": {},
   "outputs": [
    {
     "output_type": "execute_result",
     "data": {
      "text/plain": [
       "19.639238067208627"
      ]
     },
     "metadata": {},
     "execution_count": 7
    }
   ],
   "source": [
    "avg_trip_duration = df_trip[\"tripduration\"].mean()/60\n",
    "avg_trip_duration"
   ]
  },
  {
   "source": [
    "## What's the most common age of a bicycle-sharer?"
   ],
   "cell_type": "markdown",
   "metadata": {}
  },
  {
   "cell_type": "code",
   "execution_count": 24,
   "metadata": {},
   "outputs": [
    {
     "output_type": "execute_result",
     "data": {
      "text/plain": [
       "0    28.0\n",
       "dtype: float64"
      ]
     },
     "metadata": {},
     "execution_count": 24
    }
   ],
   "source": [
    "# df_trip[\"rider_age\"] = pd.DatetimeIndex(df_trip[\"starttime\"].apply(pd.to_datetime)).year\n",
    "# Was working to take the year of each start time and subtract it from teh rider... but it became a lot of processing and took awhile... so going to do more of an estimate\n",
    "# The data is from years 2014-2016, so going to make the assumption that the average and most common trip start date year is 2015\n",
    "# now can do simple math from the birth year to the assumed travel year of 2015\n",
    "# median_trip_start = df_trip[\"starttime\"].median()\n",
    "# could not convert string to floats... so going to assume 2015 (could possibly use regex to dig out years)\n",
    "most_common_birth_year = df_trip[\"birthyear\"].mode()\n",
    "assumed_median_trip_start_year = 2015\n",
    "most_common_age_of_rider = assumed_median_trip_start_year - most_common_birth_year\n",
    "most_common_age_of_rider"
   ]
  },
  {
   "source": [
    "## Given all the weather data here, find the average precipitation per month, and the median precipitation."
   ],
   "cell_type": "markdown",
   "metadata": {}
  },
  {
   "cell_type": "code",
   "execution_count": 57,
   "metadata": {},
   "outputs": [
    {
     "output_type": "execute_result",
     "data": {
      "text/plain": [
       "       monthly_average  monthly_median\n",
       "month                                 \n",
       "1                  NaN             NaN\n",
       "2             0.143548           0.020\n",
       "3             0.168421           0.040\n",
       "4             0.156935           0.025\n",
       "5             0.051333           0.000\n",
       "6             0.012419           0.000\n",
       "7             0.030500           0.000\n",
       "8             0.012097           0.000\n",
       "9             0.018226           0.000\n",
       "10            0.041000           0.000\n",
       "11            0.189000           0.040\n",
       "12            0.187833           0.035"
      ],
      "text/html": "<div>\n<style scoped>\n    .dataframe tbody tr th:only-of-type {\n        vertical-align: middle;\n    }\n\n    .dataframe tbody tr th {\n        vertical-align: top;\n    }\n\n    .dataframe thead th {\n        text-align: right;\n    }\n</style>\n<table border=\"1\" class=\"dataframe\">\n  <thead>\n    <tr style=\"text-align: right;\">\n      <th></th>\n      <th>monthly_average</th>\n      <th>monthly_median</th>\n    </tr>\n    <tr>\n      <th>month</th>\n      <th></th>\n      <th></th>\n    </tr>\n  </thead>\n  <tbody>\n    <tr>\n      <th>1</th>\n      <td>NaN</td>\n      <td>NaN</td>\n    </tr>\n    <tr>\n      <th>2</th>\n      <td>0.143548</td>\n      <td>0.020</td>\n    </tr>\n    <tr>\n      <th>3</th>\n      <td>0.168421</td>\n      <td>0.040</td>\n    </tr>\n    <tr>\n      <th>4</th>\n      <td>0.156935</td>\n      <td>0.025</td>\n    </tr>\n    <tr>\n      <th>5</th>\n      <td>0.051333</td>\n      <td>0.000</td>\n    </tr>\n    <tr>\n      <th>6</th>\n      <td>0.012419</td>\n      <td>0.000</td>\n    </tr>\n    <tr>\n      <th>7</th>\n      <td>0.030500</td>\n      <td>0.000</td>\n    </tr>\n    <tr>\n      <th>8</th>\n      <td>0.012097</td>\n      <td>0.000</td>\n    </tr>\n    <tr>\n      <th>9</th>\n      <td>0.018226</td>\n      <td>0.000</td>\n    </tr>\n    <tr>\n      <th>10</th>\n      <td>0.041000</td>\n      <td>0.000</td>\n    </tr>\n    <tr>\n      <th>11</th>\n      <td>0.189000</td>\n      <td>0.040</td>\n    </tr>\n    <tr>\n      <th>12</th>\n      <td>0.187833</td>\n      <td>0.035</td>\n    </tr>\n  </tbody>\n</table>\n</div>"
     },
     "metadata": {},
     "execution_count": 57
    }
   ],
   "source": [
    "#converts the date format to a standard one, then uses a panda method to pull off the month, and stores that month in a new series (column) called \"month\"\n",
    "df_weather[\"month\"] = pd.DatetimeIndex(df_weather[\"Date\"].apply(pd.to_datetime)).month\n",
    "# df_weather[[\"month\",\"Precipitation_In\"]].groupby(by=\"month\").median()\n",
    "df_monthly_precip = df_weather[[\"month\",\"Precipitation_In\"]].groupby(by=\"month\")\n",
    "# df_monthly_precip.median()\n",
    "# df_monthly_precip.mean()\n",
    "# df_monthly_precip.head(4)\n",
    "\n",
    "d = {\"month\": [1,2,3,4,5,6,7,8,9,10,11,12]}\n",
    "df_summary_precip_table = pd.DataFrame(data=d)\n",
    "df_summary_precip_table[\"monthly_median\"] = df_monthly_precip.median()\n",
    "df_summary_precip_table[\"monthly_average\"] = df_monthly_precip.mean()\n",
    "df_summary_precip_table[[\"month\",\"monthly_average\",\"monthly_median\"]].set_index(\"month\")\n"
   ]
  },
  {
   "source": [
    "## What’s the average number of bikes at a given bike station?"
   ],
   "cell_type": "markdown",
   "metadata": {}
  },
  {
   "cell_type": "code",
   "execution_count": 58,
   "metadata": {},
   "outputs": [
    {
     "output_type": "execute_result",
     "data": {
      "text/plain": [
       "16.517241379310345"
      ]
     },
     "metadata": {},
     "execution_count": 58
    }
   ],
   "source": [
    "avg_bike_per_station = df_station[\"current_dockcount\"].mean()\n",
    "avg_bike_per_station"
   ]
  },
  {
   "source": [
    "## When a bike station is modified, is it more likely that it’ll lose bikes or gain bikes? How do you know?  (Bikes were reduced by an average of 3.8 bikes when modifications occured.)"
   ],
   "cell_type": "markdown",
   "metadata": {}
  },
  {
   "cell_type": "code",
   "execution_count": 91,
   "metadata": {},
   "outputs": [
    {
     "output_type": "execute_result",
     "data": {
      "text/plain": [
       "-3.764705882352941"
      ]
     },
     "metadata": {},
     "execution_count": 91
    }
   ],
   "source": [
    "# df_station[df_station[\"modification_date\"] == \"11/9/2015\"][[\"station_id\",\"modification_date\"]]\n",
    "# df_station[df_station[\"modification_date\"] != \"11/9/2015\"][[\"station_id\",\"modification_date\"]]\n",
    "# df_station[df_station[\"modification_date\"] != \"NaN\"][[\"station_id\",\"modification_date\"]]\n",
    "# df_station[pd.isnull(df_station[\"modification_date\"])][[\"station_id\",\"modification_date\"]]\n",
    "df_station[\"bike_delta_for_mod\"] = df_station[\"current_dockcount\"] - df_station[\"install_dockcount\"]\n",
    "df_station[pd.notnull(df_station[\"modification_date\"])][[\"station_id\",\"modification_date\"]]\n",
    "avg_bike_delta_for_mod = df_station[pd.notnull(df_station[\"modification_date\"])][\"bike_delta_for_mod\"].mean()\n",
    "avg_bike_delta_for_mod"
   ]
  },
  {
   "source": [
    "df_trip.head(5)"
   ],
   "cell_type": "markdown",
   "metadata": {}
  },
  {
   "cell_type": "code",
   "execution_count": 13,
   "metadata": {},
   "outputs": [
    {
     "output_type": "execute_result",
     "data": {
      "text/plain": [
       "         Date  Max_Temperature_F  Mean_Temperature_F  Min_TemperatureF  \\\n",
       "0  10/13/2014                 71                62.0                54   \n",
       "1  10/14/2014                 63                59.0                55   \n",
       "2  10/15/2014                 62                58.0                54   \n",
       "3  10/16/2014                 71                61.0                52   \n",
       "4  10/17/2014                 64                60.0                57   \n",
       "\n",
       "   Max_Dew_Point_F  MeanDew_Point_F  Min_Dewpoint_F  Max_Humidity  \\\n",
       "0               55               51              46            87   \n",
       "1               52               51              50            88   \n",
       "2               53               50              46            87   \n",
       "3               49               46              42            83   \n",
       "4               55               51              41            87   \n",
       "\n",
       "   Mean_Humidity  Min_Humidity  ...  Mean_Sea_Level_Pressure_In  \\\n",
       "0             68            46  ...                       29.79   \n",
       "1             78            63  ...                       29.75   \n",
       "2             77            67  ...                       29.71   \n",
       "3             61            36  ...                       29.95   \n",
       "4             72            46  ...                       29.78   \n",
       "\n",
       "   Min_Sea_Level_Pressure_In  Max_Visibility_Miles  Mean_Visibility_Miles  \\\n",
       "0                      29.65                    10                     10   \n",
       "1                      29.54                    10                      9   \n",
       "2                      29.51                    10                      9   \n",
       "3                      29.81                    10                     10   \n",
       "4                      29.73                    10                     10   \n",
       "\n",
       "   Min_Visibility_Miles  Max_Wind_Speed_MPH  Mean_Wind_Speed_MPH  \\\n",
       "0                     4                  13                    4   \n",
       "1                     3                  10                    5   \n",
       "2                     3                  18                    7   \n",
       "3                    10                   9                    4   \n",
       "4                     6                   8                    3   \n",
       "\n",
       "   Max_Gust_Speed_MPH Precipitation_In  Events  \n",
       "0                  21             0.00    Rain  \n",
       "1                  17             0.11    Rain  \n",
       "2                  25             0.45    Rain  \n",
       "3                   -             0.00    Rain  \n",
       "4                   -             0.14    Rain  \n",
       "\n",
       "[5 rows x 21 columns]"
      ],
      "text/html": "<div>\n<style scoped>\n    .dataframe tbody tr th:only-of-type {\n        vertical-align: middle;\n    }\n\n    .dataframe tbody tr th {\n        vertical-align: top;\n    }\n\n    .dataframe thead th {\n        text-align: right;\n    }\n</style>\n<table border=\"1\" class=\"dataframe\">\n  <thead>\n    <tr style=\"text-align: right;\">\n      <th></th>\n      <th>Date</th>\n      <th>Max_Temperature_F</th>\n      <th>Mean_Temperature_F</th>\n      <th>Min_TemperatureF</th>\n      <th>Max_Dew_Point_F</th>\n      <th>MeanDew_Point_F</th>\n      <th>Min_Dewpoint_F</th>\n      <th>Max_Humidity</th>\n      <th>Mean_Humidity</th>\n      <th>Min_Humidity</th>\n      <th>...</th>\n      <th>Mean_Sea_Level_Pressure_In</th>\n      <th>Min_Sea_Level_Pressure_In</th>\n      <th>Max_Visibility_Miles</th>\n      <th>Mean_Visibility_Miles</th>\n      <th>Min_Visibility_Miles</th>\n      <th>Max_Wind_Speed_MPH</th>\n      <th>Mean_Wind_Speed_MPH</th>\n      <th>Max_Gust_Speed_MPH</th>\n      <th>Precipitation_In</th>\n      <th>Events</th>\n    </tr>\n  </thead>\n  <tbody>\n    <tr>\n      <th>0</th>\n      <td>10/13/2014</td>\n      <td>71</td>\n      <td>62.0</td>\n      <td>54</td>\n      <td>55</td>\n      <td>51</td>\n      <td>46</td>\n      <td>87</td>\n      <td>68</td>\n      <td>46</td>\n      <td>...</td>\n      <td>29.79</td>\n      <td>29.65</td>\n      <td>10</td>\n      <td>10</td>\n      <td>4</td>\n      <td>13</td>\n      <td>4</td>\n      <td>21</td>\n      <td>0.00</td>\n      <td>Rain</td>\n    </tr>\n    <tr>\n      <th>1</th>\n      <td>10/14/2014</td>\n      <td>63</td>\n      <td>59.0</td>\n      <td>55</td>\n      <td>52</td>\n      <td>51</td>\n      <td>50</td>\n      <td>88</td>\n      <td>78</td>\n      <td>63</td>\n      <td>...</td>\n      <td>29.75</td>\n      <td>29.54</td>\n      <td>10</td>\n      <td>9</td>\n      <td>3</td>\n      <td>10</td>\n      <td>5</td>\n      <td>17</td>\n      <td>0.11</td>\n      <td>Rain</td>\n    </tr>\n    <tr>\n      <th>2</th>\n      <td>10/15/2014</td>\n      <td>62</td>\n      <td>58.0</td>\n      <td>54</td>\n      <td>53</td>\n      <td>50</td>\n      <td>46</td>\n      <td>87</td>\n      <td>77</td>\n      <td>67</td>\n      <td>...</td>\n      <td>29.71</td>\n      <td>29.51</td>\n      <td>10</td>\n      <td>9</td>\n      <td>3</td>\n      <td>18</td>\n      <td>7</td>\n      <td>25</td>\n      <td>0.45</td>\n      <td>Rain</td>\n    </tr>\n    <tr>\n      <th>3</th>\n      <td>10/16/2014</td>\n      <td>71</td>\n      <td>61.0</td>\n      <td>52</td>\n      <td>49</td>\n      <td>46</td>\n      <td>42</td>\n      <td>83</td>\n      <td>61</td>\n      <td>36</td>\n      <td>...</td>\n      <td>29.95</td>\n      <td>29.81</td>\n      <td>10</td>\n      <td>10</td>\n      <td>10</td>\n      <td>9</td>\n      <td>4</td>\n      <td>-</td>\n      <td>0.00</td>\n      <td>Rain</td>\n    </tr>\n    <tr>\n      <th>4</th>\n      <td>10/17/2014</td>\n      <td>64</td>\n      <td>60.0</td>\n      <td>57</td>\n      <td>55</td>\n      <td>51</td>\n      <td>41</td>\n      <td>87</td>\n      <td>72</td>\n      <td>46</td>\n      <td>...</td>\n      <td>29.78</td>\n      <td>29.73</td>\n      <td>10</td>\n      <td>10</td>\n      <td>6</td>\n      <td>8</td>\n      <td>3</td>\n      <td>-</td>\n      <td>0.14</td>\n      <td>Rain</td>\n    </tr>\n  </tbody>\n</table>\n<p>5 rows × 21 columns</p>\n</div>"
     },
     "metadata": {},
     "execution_count": 13
    }
   ],
   "source": [
    "df_weather.head(5)"
   ]
  },
  {
   "cell_type": "code",
   "execution_count": 14,
   "metadata": {},
   "outputs": [
    {
     "output_type": "execute_result",
     "data": {
      "text/plain": [
       "  station_id                    name        lat        long install_date  \\\n",
       "0      BT-01      3rd Ave & Broad St  47.618418 -122.350964   10/13/2014   \n",
       "1      BT-03       2nd Ave & Vine St  47.615829 -122.348564   10/13/2014   \n",
       "2      BT-04  6th Ave & Blanchard St  47.616094 -122.341102   10/13/2014   \n",
       "3      BT-05  2nd Ave & Blanchard St  47.613110 -122.344208   10/13/2014   \n",
       "4     CBD-03      7th Ave & Union St  47.610731 -122.332447   10/13/2014   \n",
       "\n",
       "   install_dockcount modification_date  current_dockcount decommission_date  \n",
       "0                 18               NaN                 18               NaN  \n",
       "1                 16               NaN                 16               NaN  \n",
       "2                 16               NaN                 16               NaN  \n",
       "3                 14               NaN                 14               NaN  \n",
       "4                 20               NaN                 20               NaN  "
      ],
      "text/html": "<div>\n<style scoped>\n    .dataframe tbody tr th:only-of-type {\n        vertical-align: middle;\n    }\n\n    .dataframe tbody tr th {\n        vertical-align: top;\n    }\n\n    .dataframe thead th {\n        text-align: right;\n    }\n</style>\n<table border=\"1\" class=\"dataframe\">\n  <thead>\n    <tr style=\"text-align: right;\">\n      <th></th>\n      <th>station_id</th>\n      <th>name</th>\n      <th>lat</th>\n      <th>long</th>\n      <th>install_date</th>\n      <th>install_dockcount</th>\n      <th>modification_date</th>\n      <th>current_dockcount</th>\n      <th>decommission_date</th>\n    </tr>\n  </thead>\n  <tbody>\n    <tr>\n      <th>0</th>\n      <td>BT-01</td>\n      <td>3rd Ave &amp; Broad St</td>\n      <td>47.618418</td>\n      <td>-122.350964</td>\n      <td>10/13/2014</td>\n      <td>18</td>\n      <td>NaN</td>\n      <td>18</td>\n      <td>NaN</td>\n    </tr>\n    <tr>\n      <th>1</th>\n      <td>BT-03</td>\n      <td>2nd Ave &amp; Vine St</td>\n      <td>47.615829</td>\n      <td>-122.348564</td>\n      <td>10/13/2014</td>\n      <td>16</td>\n      <td>NaN</td>\n      <td>16</td>\n      <td>NaN</td>\n    </tr>\n    <tr>\n      <th>2</th>\n      <td>BT-04</td>\n      <td>6th Ave &amp; Blanchard St</td>\n      <td>47.616094</td>\n      <td>-122.341102</td>\n      <td>10/13/2014</td>\n      <td>16</td>\n      <td>NaN</td>\n      <td>16</td>\n      <td>NaN</td>\n    </tr>\n    <tr>\n      <th>3</th>\n      <td>BT-05</td>\n      <td>2nd Ave &amp; Blanchard St</td>\n      <td>47.613110</td>\n      <td>-122.344208</td>\n      <td>10/13/2014</td>\n      <td>14</td>\n      <td>NaN</td>\n      <td>14</td>\n      <td>NaN</td>\n    </tr>\n    <tr>\n      <th>4</th>\n      <td>CBD-03</td>\n      <td>7th Ave &amp; Union St</td>\n      <td>47.610731</td>\n      <td>-122.332447</td>\n      <td>10/13/2014</td>\n      <td>20</td>\n      <td>NaN</td>\n      <td>20</td>\n      <td>NaN</td>\n    </tr>\n  </tbody>\n</table>\n</div>"
     },
     "metadata": {},
     "execution_count": 14
    }
   ],
   "source": [
    "df_station.head(5)"
   ]
  },
  {
   "cell_type": "code",
   "execution_count": 92,
   "metadata": {},
   "outputs": [
    {
     "output_type": "execute_result",
     "data": {
      "text/plain": [
       "   trip_id         starttime          stoptime    bikeid  tripduration  \\\n",
       "0      431  10/13/2014 10:31  10/13/2014 10:48  SEA00298       985.935   \n",
       "1      432  10/13/2014 10:32  10/13/2014 10:48  SEA00195       926.375   \n",
       "2      433  10/13/2014 10:33  10/13/2014 10:48  SEA00486       883.831   \n",
       "3      434  10/13/2014 10:34  10/13/2014 10:48  SEA00333       865.937   \n",
       "4      435  10/13/2014 10:34  10/13/2014 10:49  SEA00202       923.923   \n",
       "\n",
       "     from_station_name                                    to_station_name  \\\n",
       "0  2nd Ave & Spring St  Occidental Park / Occidental Ave S & S Washing...   \n",
       "1  2nd Ave & Spring St  Occidental Park / Occidental Ave S & S Washing...   \n",
       "2  2nd Ave & Spring St  Occidental Park / Occidental Ave S & S Washing...   \n",
       "3  2nd Ave & Spring St  Occidental Park / Occidental Ave S & S Washing...   \n",
       "4  2nd Ave & Spring St  Occidental Park / Occidental Ave S & S Washing...   \n",
       "\n",
       "  from_station_id to_station_id usertype  gender  birthyear  rider_age  \n",
       "0          CBD-06         PS-04   Member    Male     1960.0       2014  \n",
       "1          CBD-06         PS-04   Member    Male     1970.0       2014  \n",
       "2          CBD-06         PS-04   Member  Female     1988.0       2014  \n",
       "3          CBD-06         PS-04   Member  Female     1977.0       2014  \n",
       "4          CBD-06         PS-04   Member    Male     1971.0       2014  "
      ],
      "text/html": "<div>\n<style scoped>\n    .dataframe tbody tr th:only-of-type {\n        vertical-align: middle;\n    }\n\n    .dataframe tbody tr th {\n        vertical-align: top;\n    }\n\n    .dataframe thead th {\n        text-align: right;\n    }\n</style>\n<table border=\"1\" class=\"dataframe\">\n  <thead>\n    <tr style=\"text-align: right;\">\n      <th></th>\n      <th>trip_id</th>\n      <th>starttime</th>\n      <th>stoptime</th>\n      <th>bikeid</th>\n      <th>tripduration</th>\n      <th>from_station_name</th>\n      <th>to_station_name</th>\n      <th>from_station_id</th>\n      <th>to_station_id</th>\n      <th>usertype</th>\n      <th>gender</th>\n      <th>birthyear</th>\n      <th>rider_age</th>\n    </tr>\n  </thead>\n  <tbody>\n    <tr>\n      <th>0</th>\n      <td>431</td>\n      <td>10/13/2014 10:31</td>\n      <td>10/13/2014 10:48</td>\n      <td>SEA00298</td>\n      <td>985.935</td>\n      <td>2nd Ave &amp; Spring St</td>\n      <td>Occidental Park / Occidental Ave S &amp; S Washing...</td>\n      <td>CBD-06</td>\n      <td>PS-04</td>\n      <td>Member</td>\n      <td>Male</td>\n      <td>1960.0</td>\n      <td>2014</td>\n    </tr>\n    <tr>\n      <th>1</th>\n      <td>432</td>\n      <td>10/13/2014 10:32</td>\n      <td>10/13/2014 10:48</td>\n      <td>SEA00195</td>\n      <td>926.375</td>\n      <td>2nd Ave &amp; Spring St</td>\n      <td>Occidental Park / Occidental Ave S &amp; S Washing...</td>\n      <td>CBD-06</td>\n      <td>PS-04</td>\n      <td>Member</td>\n      <td>Male</td>\n      <td>1970.0</td>\n      <td>2014</td>\n    </tr>\n    <tr>\n      <th>2</th>\n      <td>433</td>\n      <td>10/13/2014 10:33</td>\n      <td>10/13/2014 10:48</td>\n      <td>SEA00486</td>\n      <td>883.831</td>\n      <td>2nd Ave &amp; Spring St</td>\n      <td>Occidental Park / Occidental Ave S &amp; S Washing...</td>\n      <td>CBD-06</td>\n      <td>PS-04</td>\n      <td>Member</td>\n      <td>Female</td>\n      <td>1988.0</td>\n      <td>2014</td>\n    </tr>\n    <tr>\n      <th>3</th>\n      <td>434</td>\n      <td>10/13/2014 10:34</td>\n      <td>10/13/2014 10:48</td>\n      <td>SEA00333</td>\n      <td>865.937</td>\n      <td>2nd Ave &amp; Spring St</td>\n      <td>Occidental Park / Occidental Ave S &amp; S Washing...</td>\n      <td>CBD-06</td>\n      <td>PS-04</td>\n      <td>Member</td>\n      <td>Female</td>\n      <td>1977.0</td>\n      <td>2014</td>\n    </tr>\n    <tr>\n      <th>4</th>\n      <td>435</td>\n      <td>10/13/2014 10:34</td>\n      <td>10/13/2014 10:49</td>\n      <td>SEA00202</td>\n      <td>923.923</td>\n      <td>2nd Ave &amp; Spring St</td>\n      <td>Occidental Park / Occidental Ave S &amp; S Washing...</td>\n      <td>CBD-06</td>\n      <td>PS-04</td>\n      <td>Member</td>\n      <td>Male</td>\n      <td>1971.0</td>\n      <td>2014</td>\n    </tr>\n  </tbody>\n</table>\n</div>"
     },
     "metadata": {},
     "execution_count": 92
    }
   ],
   "source": [
    "df_trip.head(5)"
   ]
  },
  {
   "cell_type": "code",
   "execution_count": null,
   "metadata": {},
   "outputs": [],
   "source": []
  }
 ]
}